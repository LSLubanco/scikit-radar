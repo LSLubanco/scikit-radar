{
 "cells": [
  {
   "cell_type": "markdown",
   "metadata": {},
   "source": [
    "This notebook is based on the ```single_static_target``` example. It is extended to include multiple Doppler bins (slow_time samples/chirps), which allows to estimate targets' relative Doppler and consequently targets' relative radial velocity."
   ]
  },
  {
   "cell_type": "code",
   "execution_count": 438,
   "metadata": {},
   "outputs": [],
   "source": [
    "import numpy as np\n",
    "import matplotlib.pyplot as plt\n",
    "%matplotlib qt\n",
    "from scipy.constants import speed_of_light as c0\n",
    "import skradar\n",
    "from numpy.fft import fftn,fftshift\n",
    "from scipy import signal\n",
    "from mpl_toolkits.axes_grid1 import make_axes_locatable"
   ]
  },
  {
   "cell_type": "markdown",
   "metadata": {},
   "source": [
    "# Scene Setup\n",
    "See the ```single_static_target``` example for a detailed description of the configuration of radar, target, and scene. Here we increase the number of chirps for Doppler processing."
   ]
  },
  {
   "cell_type": "code",
   "execution_count": 439,
   "metadata": {},
   "outputs": [],
   "source": [
    "B = 1e9\n",
    "fc = 76.5e9\n",
    "N_f = 512  # number of fast-time samples\n",
    "fs_f = 1e6  # fast-time sampling rate\n",
    "Ts_s = (N_f-1)/fs_f  # slow-time sampling interval\n",
    "N_s = 32  # number of slow-time samples\n",
    "\n",
    "lambd = c0/fc\n",
    "\n",
    "tx_pos = np.array([[0], [0], [0]])\n",
    "N_rx = 8\n",
    "rx_pos = np.zeros((3, N_rx))\n",
    "rx_pos[0, :] = np.arange(N_rx)*lambd/2  # half-wavelength receive array along x\n",
    "radar_pos = np.array([[0], [0], [0]])\n",
    "radar = skradar.FMCWRadar(B=B, fc=fc, N_f=N_f, T_f=1/fs_f, T_s=Ts_s,\n",
    "                          N_s=N_s, tx_pos=tx_pos, rx_pos=rx_pos,\n",
    "                          pos=radar_pos, name='First radar')\n",
    "\n",
    "target_lst = list()\n",
    "target_lst.append(skradar.Target(rcs=1, pos=np.array([[0], [5], [0]]),name='First target, 1 sqm'))\n",
    "target_lst.append(skradar.Target(rcs=1, pos=np.array([[20], [20], [0]]), name='Second target, 1 sqm'))\n",
    "\n",
    "scene = skradar.Scene([radar], target_lst)\n",
    "\n",
    "fig = plt.figure(1, figsize=(12, 8))\n",
    "plt.clf()\n",
    "ax = fig.add_subplot(111, projection='3d')\n",
    "ax.set_xlim((-5, 25))\n",
    "ax.set_ylim((0, 15))\n",
    "ax.set_zlim((-7.5, 7.5))\n",
    "scene.visualize('world', ax, coord_len=2)\n",
    "ax.set_xlabel('x (m)')\n",
    "ax.set_ylabel('y (m)')\n",
    "ax.set_zlabel('z (m)');"
   ]
  },
  {
   "cell_type": "markdown",
   "metadata": {},
   "source": [
    "# Radar Signal Simulation and Range Processing\n",
    "Simulate chirps and perform range-compression"
   ]
  },
  {
   "cell_type": "code",
   "execution_count": 440,
   "metadata": {},
   "outputs": [],
   "source": [
    "# Maximum velocity from relative Doppler\n",
    "vmax = lambd / (4*Ts_s)"
   ]
  },
  {
   "cell_type": "code",
   "execution_count": 441,
   "metadata": {},
   "outputs": [],
   "source": [
    "scene = skradar.Scene([radar], target_lst)\n",
    "radar_vel =vmax / 2 # m/s\n",
    "radar.vel[0] = 0    \n",
    "radar.vel[1] =radar_vel # moving only in the y-directior \n",
    "radar.update_pose(Ts_s*N_s)\n",
    "scene = skradar.Scene([radar], target_lst)\n",
    "radar.sim_chirps()\n",
    "radar.range_compression(zp_fact=4)\n"
   ]
  },
  {
   "cell_type": "markdown",
   "metadata": {},
   "source": [
    "# Doppler Processing\n",
    "Calculate relative Doppler using the range profiled data."
   ]
  },
  {
   "cell_type": "code",
   "execution_count": 442,
   "metadata": {},
   "outputs": [],
   "source": [
    "### Creating window ###\n",
    "# Given axis along which elementwise multiplication with broadcasting \n",
    "# is to be performed\n",
    "given_axis = 1\n",
    "\n",
    "# Create an array which would be used to reshape 1D array, b to have \n",
    "# singleton dimensions except for the given axis where we would put -1 \n",
    "# signifying to use the entire length of elements along that axis  \n",
    "dim_array = np.ones((1,radar.rp[0,:,:,:].ndim),int).ravel()\n",
    "dim_array[given_axis] = -1\n",
    "\n",
    "# Reshape b with dim_array and perform elementwise multiplication with \n",
    "# broadcasting along the singleton dimensions for the final output\n",
    "win = signal.windows.hann(radar.rp[0,:,:,:].shape[given_axis])\n",
    "win = win.reshape(dim_array)\n",
    "\n",
    "## Calculate Doppler ###\n",
    "dopplers = fftshift(fftn(radar.rp[0,:,:,:]*win,axes=[1],s=[2**9])[:,:,0:radar.rp.shape[-1]//2],\n",
    "                   axes=1) "
   ]
  },
  {
   "cell_type": "markdown",
   "metadata": {},
   "source": [
    "Now we shall be able to see the range-doppler plot. We expect the targets to have radial velocity relative to the radar different than zero. \n",
    "\n",
    "Because we only translated in the y-direction moving closer to targets, the target with its position x aligned to radar's x-position (\"First Target\") shall have relative radial velocity **equal** to $radar_{vel}$. "
   ]
  },
  {
   "cell_type": "code",
   "execution_count": 456,
   "metadata": {},
   "outputs": [
    {
     "data": {
      "text/plain": [
       "<matplotlib.colorbar.Colorbar at 0x7fa39db01b80>"
      ]
     },
     "execution_count": 456,
     "metadata": {},
     "output_type": "execute_result"
    }
   ],
   "source": [
    "fig,ax = plt.subplots(1)\n",
    "ant_idx = 0\n",
    "dp_plot = 20*np.log10(np.abs(dopplers[ant_idx,:,:])) # Convert Doppler image to dB\n",
    "dp_plot -= np.max(dp_plot)                           # Normalize\n",
    "plotlevel = -20                                      \n",
    "dp_plot[dp_plot<plotlevel] = plotlevel               \n",
    "im = ax.imshow(dp_plot,extent=[0,radar.ranges[-1]/4,vmax,-vmax],cmap=\"cividis\")\n",
    "# Line where radar's radial velocity * -1\n",
    "ax.axhline(y=(np.sqrt(radar.vel[0]**2+radar.vel[1]**2)),ls=\"-.\",lw=.5)      # radar translation\n",
    "ax.annotate('Target 1', color=\"white\",xy=(target_lst[0].pos[1],radar_vel), \n",
    "            xytext=(target_lst[0].pos[1],-1.5+radar_vel),\n",
    "            arrowprops=dict(facecolor='white', shrink=0.05))\n",
    "ax.set_xlabel(\"Range (m)\")\n",
    "ax.set_ylabel(\"Targets's Relative Radial Velocity (m/s)\")\n",
    "ax.set_title(f\"Range-Doppler Plot\")\n",
    "divider = make_axes_locatable(ax)\n",
    "cax = divider.append_axes('right', size='1%', pad=0.05)\n",
    "fig.colorbar(im,ax=ax,cax=cax)"
   ]
  }
 ],
 "metadata": {
  "interpreter": {
   "hash": "9d73e2327056a15f91a43b087aa8a2eeb397721f676d31b3f599341d3320e9da"
  },
  "kernelspec": {
   "display_name": "Python 3 (ipykernel)",
   "language": "python",
   "name": "python3"
  },
  "language_info": {
   "codemirror_mode": {
    "name": "ipython",
    "version": 3
   },
   "file_extension": ".py",
   "mimetype": "text/x-python",
   "name": "python",
   "nbconvert_exporter": "python",
   "pygments_lexer": "ipython3",
   "version": "3.9.5"
  }
 },
 "nbformat": 4,
 "nbformat_minor": 2
}
